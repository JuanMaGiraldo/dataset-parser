{
 "cells": [
  {
   "cell_type": "code",
   "execution_count": 5,
   "metadata": {},
   "outputs": [
    {
     "data": {
      "text/html": [
       "<div>\n",
       "<style scoped>\n",
       "    .dataframe tbody tr th:only-of-type {\n",
       "        vertical-align: middle;\n",
       "    }\n",
       "\n",
       "    .dataframe tbody tr th {\n",
       "        vertical-align: top;\n",
       "    }\n",
       "\n",
       "    .dataframe thead th {\n",
       "        text-align: right;\n",
       "    }\n",
       "</style>\n",
       "<table border=\"1\" class=\"dataframe\">\n",
       "  <thead>\n",
       "    <tr style=\"text-align: right;\">\n",
       "      <th></th>\n",
       "      <th>Fecha</th>\n",
       "      <th>Departamento</th>\n",
       "      <th>Municipio</th>\n",
       "      <th>Día</th>\n",
       "      <th>Hora</th>\n",
       "      <th>Barrio</th>\n",
       "      <th>Zona</th>\n",
       "      <th>Clase de sitio</th>\n",
       "      <th>Arma empleada</th>\n",
       "      <th>Móvil Agresor</th>\n",
       "      <th>Móvil Victima</th>\n",
       "      <th>Edad</th>\n",
       "      <th>Sexo</th>\n",
       "      <th>Estado civil</th>\n",
       "      <th>País de nacimiento</th>\n",
       "      <th>Clase de empleado</th>\n",
       "      <th>Profesión</th>\n",
       "      <th>Escolaridad</th>\n",
       "      <th>Código DANE</th>\n",
       "      <th>Cantidad</th>\n",
       "    </tr>\n",
       "  </thead>\n",
       "  <tbody>\n",
       "    <tr>\n",
       "      <th>0</th>\n",
       "      <td>1/1/2019</td>\n",
       "      <td>ANTIOQUIA</td>\n",
       "      <td>BELLO</td>\n",
       "      <td>Martes</td>\n",
       "      <td>12:00:00</td>\n",
       "      <td>PEREZ</td>\n",
       "      <td>URBANA</td>\n",
       "      <td>RODANDO SOBRE VIA - VIA PUBLICA</td>\n",
       "      <td>SIN EMPLEO DE ARMAS</td>\n",
       "      <td>A PIE</td>\n",
       "      <td>A PIE</td>\n",
       "      <td>51</td>\n",
       "      <td>MASCULINO</td>\n",
       "      <td>SEPARADO</td>\n",
       "      <td>COLOMBIA</td>\n",
       "      <td>EMPLEADO PARTICULAR</td>\n",
       "      <td>TECNOLOGO  EN GESTION INDUSTRIAL</td>\n",
       "      <td>TECNOLOGO</td>\n",
       "      <td>5088000</td>\n",
       "      <td>1</td>\n",
       "    </tr>\n",
       "    <tr>\n",
       "      <th>1</th>\n",
       "      <td>1/1/2019</td>\n",
       "      <td>ANTIOQUIA</td>\n",
       "      <td>BELLO</td>\n",
       "      <td>Martes</td>\n",
       "      <td>06:00:00</td>\n",
       "      <td>LA CABAÑITA</td>\n",
       "      <td>URBANA</td>\n",
       "      <td>VIAS PUBLICAS</td>\n",
       "      <td>SIN EMPLEO DE ARMAS</td>\n",
       "      <td>A PIE</td>\n",
       "      <td>A PIE</td>\n",
       "      <td>22</td>\n",
       "      <td>MASCULINO</td>\n",
       "      <td>SOLTERO</td>\n",
       "      <td>COLOMBIA</td>\n",
       "      <td>EMPLEADO PARTICULAR</td>\n",
       "      <td>ANALISTAS DE SISTEMAS</td>\n",
       "      <td>TECNOLOGO</td>\n",
       "      <td>5088000</td>\n",
       "      <td>1</td>\n",
       "    </tr>\n",
       "    <tr>\n",
       "      <th>2</th>\n",
       "      <td>1/1/2019</td>\n",
       "      <td>ANTIOQUIA</td>\n",
       "      <td>BELLO</td>\n",
       "      <td>Martes</td>\n",
       "      <td>21:30:00</td>\n",
       "      <td>LAS VEGAS</td>\n",
       "      <td>URBANA</td>\n",
       "      <td>PUENTE</td>\n",
       "      <td>ARMA BLANCA / CORTOPUNZANTE</td>\n",
       "      <td>A PIE</td>\n",
       "      <td>A PIE</td>\n",
       "      <td>23</td>\n",
       "      <td>FEMENINO</td>\n",
       "      <td>CASADO</td>\n",
       "      <td>COLOMBIA</td>\n",
       "      <td>ESTUDIANTE</td>\n",
       "      <td>ADMINISTRACION  EN RECURSOS HUMANOS</td>\n",
       "      <td>SUPERIOR</td>\n",
       "      <td>5088000</td>\n",
       "      <td>1</td>\n",
       "    </tr>\n",
       "    <tr>\n",
       "      <th>3</th>\n",
       "      <td>1/1/2019</td>\n",
       "      <td>ANTIOQUIA</td>\n",
       "      <td>BELLO</td>\n",
       "      <td>Martes</td>\n",
       "      <td>22:00:00</td>\n",
       "      <td>LOS SAUCES</td>\n",
       "      <td>URBANA</td>\n",
       "      <td>VIAS PUBLICAS</td>\n",
       "      <td>SIN EMPLEO DE ARMAS</td>\n",
       "      <td>A PIE</td>\n",
       "      <td>A PIE</td>\n",
       "      <td>21</td>\n",
       "      <td>FEMENINO</td>\n",
       "      <td>SOLTERO</td>\n",
       "      <td>COLOMBIA</td>\n",
       "      <td>EMPLEADO PARTICULAR</td>\n",
       "      <td>NO REPORTADA</td>\n",
       "      <td>SECUNDARIA</td>\n",
       "      <td>5088000</td>\n",
       "      <td>1</td>\n",
       "    </tr>\n",
       "    <tr>\n",
       "      <th>4</th>\n",
       "      <td>1/1/2019</td>\n",
       "      <td>ANTIOQUIA</td>\n",
       "      <td>BELLO</td>\n",
       "      <td>Martes</td>\n",
       "      <td>01:30:00</td>\n",
       "      <td>NIQUIA QUITASOL</td>\n",
       "      <td>URBANA</td>\n",
       "      <td>BANCOS</td>\n",
       "      <td>SIN EMPLEO DE ARMAS</td>\n",
       "      <td>A PIE</td>\n",
       "      <td>A PIE</td>\n",
       "      <td>25</td>\n",
       "      <td>MASCULINO</td>\n",
       "      <td>CASADO</td>\n",
       "      <td>COLOMBIA</td>\n",
       "      <td>EMPLEADO PARTICULAR</td>\n",
       "      <td>CIENCIAS MILITARES</td>\n",
       "      <td>SECUNDARIA</td>\n",
       "      <td>5088000</td>\n",
       "      <td>1</td>\n",
       "    </tr>\n",
       "  </tbody>\n",
       "</table>\n",
       "</div>"
      ],
      "text/plain": [
       "      Fecha Departamento Municipio     Día      Hora           Barrio    Zona  \\\n",
       "0  1/1/2019    ANTIOQUIA     BELLO  Martes  12:00:00            PEREZ  URBANA   \n",
       "1  1/1/2019    ANTIOQUIA     BELLO  Martes  06:00:00      LA CABAÑITA  URBANA   \n",
       "2  1/1/2019    ANTIOQUIA     BELLO  Martes  21:30:00        LAS VEGAS  URBANA   \n",
       "3  1/1/2019    ANTIOQUIA     BELLO  Martes  22:00:00       LOS SAUCES  URBANA   \n",
       "4  1/1/2019    ANTIOQUIA     BELLO  Martes  01:30:00  NIQUIA QUITASOL  URBANA   \n",
       "\n",
       "                    Clase de sitio                Arma empleada Móvil Agresor  \\\n",
       "0  RODANDO SOBRE VIA - VIA PUBLICA          SIN EMPLEO DE ARMAS         A PIE   \n",
       "1                    VIAS PUBLICAS          SIN EMPLEO DE ARMAS         A PIE   \n",
       "2                           PUENTE  ARMA BLANCA / CORTOPUNZANTE         A PIE   \n",
       "3                    VIAS PUBLICAS          SIN EMPLEO DE ARMAS         A PIE   \n",
       "4                           BANCOS          SIN EMPLEO DE ARMAS         A PIE   \n",
       "\n",
       "  Móvil Victima Edad       Sexo Estado civil País de nacimiento  \\\n",
       "0         A PIE   51  MASCULINO     SEPARADO           COLOMBIA   \n",
       "1         A PIE   22  MASCULINO      SOLTERO           COLOMBIA   \n",
       "2         A PIE   23   FEMENINO       CASADO           COLOMBIA   \n",
       "3         A PIE   21   FEMENINO      SOLTERO           COLOMBIA   \n",
       "4         A PIE   25  MASCULINO       CASADO           COLOMBIA   \n",
       "\n",
       "     Clase de empleado                            Profesión Escolaridad  \\\n",
       "0  EMPLEADO PARTICULAR     TECNOLOGO  EN GESTION INDUSTRIAL   TECNOLOGO   \n",
       "1  EMPLEADO PARTICULAR                ANALISTAS DE SISTEMAS   TECNOLOGO   \n",
       "2           ESTUDIANTE  ADMINISTRACION  EN RECURSOS HUMANOS    SUPERIOR   \n",
       "3  EMPLEADO PARTICULAR                         NO REPORTADA  SECUNDARIA   \n",
       "4  EMPLEADO PARTICULAR                   CIENCIAS MILITARES  SECUNDARIA   \n",
       "\n",
       "   Código DANE  Cantidad  \n",
       "0      5088000         1  \n",
       "1      5088000         1  \n",
       "2      5088000         1  \n",
       "3      5088000         1  \n",
       "4      5088000         1  "
      ]
     },
     "execution_count": 5,
     "metadata": {},
     "output_type": "execute_result"
    }
   ],
   "source": [
    "import pandas as pd\n",
    "import matplotlib.pyplot as plt\n",
    "import re\n",
    "\n",
    "hurts = pd.read_csv('dataset.csv')\n",
    "hurts.head()\n"
   ]
  },
  {
   "cell_type": "code",
   "execution_count": 2,
   "metadata": {},
   "outputs": [
    {
     "data": {
      "text/plain": [
       "(143696, 20)"
      ]
     },
     "execution_count": 2,
     "metadata": {},
     "output_type": "execute_result"
    }
   ],
   "source": [
    "hurts.shape"
   ]
  },
  {
   "cell_type": "code",
   "execution_count": 3,
   "metadata": {
    "scrolled": true
   },
   "outputs": [
    {
     "data": {
      "text/plain": [
       "Fecha                 0\n",
       "Departamento          0\n",
       "Municipio             0\n",
       "Día                   0\n",
       "Hora                  0\n",
       "Barrio                0\n",
       "Zona                  0\n",
       "Clase de sitio        0\n",
       "Arma empleada         0\n",
       "Móvil Agresor         0\n",
       "Móvil Victima         0\n",
       "Edad                  0\n",
       "Sexo                  0\n",
       "Estado civil          0\n",
       "País de nacimiento    0\n",
       "Clase de empleado     0\n",
       "Profesión             0\n",
       "Escolaridad           0\n",
       "Código DANE           0\n",
       "Cantidad              0\n",
       "dtype: int64"
      ]
     },
     "execution_count": 3,
     "metadata": {},
     "output_type": "execute_result"
    }
   ],
   "source": [
    "hurts.isna().sum()"
   ]
  },
  {
   "cell_type": "code",
   "execution_count": 11,
   "metadata": {},
   "outputs": [
    {
     "data": {
      "image/png": "[encoded data removed]",
      "text/plain": [
       "<Figure size 432x288 with 1 Axes>"
      ]
     },
     "metadata": {
      "needs_background": "light"
     },
     "output_type": "display_data"
    }
   ],
   "source": [
    "df = pd.DataFrame(hurts,columns=['Hora','Edad'])\n",
    "df['Edad'] = df['Edad'].replace('-',20,regex=True).astype(float)\n",
    "df['Hora'] = df['Hora'].replace(':','',regex=True).astype(float)\n",
    "plt.scatter(df['Hora'], df['Edad'])\n",
    "plt.show()"
   ]
  },
  {
   "cell_type": "code",
   "execution_count": 12,
   "metadata": {},
   "outputs": [
    {
     "name": "stdout",
     "output_type": "stream",
     "text": [
      "[[7.86803181e+04 3.51473565e+01]\n",
      " [1.97285746e+05 3.37750597e+01]\n",
      " [1.38436217e+04 3.33002187e+01]\n",
      " [1.35227116e+05 3.60540931e+01]]\n"
     ]
    }
   ],
   "source": [
    "from sklearn.cluster import KMeans\n",
    "kmeans = KMeans(n_clusters=4).fit(df)\n",
    "centroids = kmeans.cluster_centers_\n",
    "print(centroids)"
   ]
  },
  {
   "cell_type": "code",
   "execution_count": 13,
   "metadata": {},
   "outputs": [
    {
     "data": {
      "image/png": "[encoded data removed]",
      "text/plain": [
       "<Figure size 432x288 with 1 Axes>"
      ]
     },
     "metadata": {
      "needs_background": "light"
     },
     "output_type": "display_data"
    }
   ],
   "source": [
    "plt.scatter(df['Hora'], df['Edad'],c=kmeans.labels_.astype(float), s=50,alpha=0.5)\n",
    "plt.scatter(centroids[:,0],centroids[:,1],c='red',s=50)\n",
    "plt.show()\n"
   ]
  },
  {
   "cell_type": "code",
   "execution_count": null,
   "metadata": {},
   "outputs": [],
   "source": []
  }
 ],
 "metadata": {
  "kernelspec": {
   "display_name": "Python 3",
   "language": "python",
   "name": "python3"
  },
  "language_info": {
   "codemirror_mode": {
    "name": "ipython",
    "version": 3
   },
   "file_extension": ".py",
   "mimetype": "text/x-python",
   "name": "python",
   "nbconvert_exporter": "python",
   "pygments_lexer": "ipython3",
   "version": "3.8.5"
  }
 },
 "nbformat": 4,
 "nbformat_minor": 4
}
